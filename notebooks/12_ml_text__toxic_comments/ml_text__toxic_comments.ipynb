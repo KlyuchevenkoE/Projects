{
 "cells": [
  {
   "cell_type": "markdown",
   "metadata": {
    "toc": true
   },
   "source": [
    "<h1>Содержание<span class=\"tocSkip\"></span></h1>\n",
    "<div class=\"toc\"><ul class=\"toc-item\"><li><span><a href=\"#Подготовка\" data-toc-modified-id=\"Подготовка-1\"><span class=\"toc-item-num\">1&nbsp;&nbsp;</span>Подготовка</a></span><ul class=\"toc-item\"><li><span><a href=\"#Знакомство-с-данными\" data-toc-modified-id=\"Знакомство-с-данными-1.1\"><span class=\"toc-item-num\">1.1&nbsp;&nbsp;</span>Знакомство с данными</a></span></li><li><span><a href=\"#Подготовка-данных\" data-toc-modified-id=\"Подготовка-данных-1.2\"><span class=\"toc-item-num\">1.2&nbsp;&nbsp;</span>Подготовка данных</a></span></li></ul></li><li><span><a href=\"#Обучение\" data-toc-modified-id=\"Обучение-2\"><span class=\"toc-item-num\">2&nbsp;&nbsp;</span>Обучение</a></span><ul class=\"toc-item\"><li><span><a href=\"#Логистическая-регрессия\" data-toc-modified-id=\"Логистическая-регрессия-2.1\"><span class=\"toc-item-num\">2.1&nbsp;&nbsp;</span>Логистическая регрессия</a></span></li><li><span><a href=\"#Случайный-лес\" data-toc-modified-id=\"Случайный-лес-2.2\"><span class=\"toc-item-num\">2.2&nbsp;&nbsp;</span>Случайный лес</a></span></li><li><span><a href=\"#LightGBM\" data-toc-modified-id=\"LightGBM-2.3\"><span class=\"toc-item-num\">2.3&nbsp;&nbsp;</span>LightGBM</a></span></li></ul></li><li><span><a href=\"#Тестирование-лучшей-модели\" data-toc-modified-id=\"Тестирование-лучшей-модели-3\"><span class=\"toc-item-num\">3&nbsp;&nbsp;</span>Тестирование лучшей модели</a></span></li><li><span><a href=\"#Выводы\" data-toc-modified-id=\"Выводы-4\"><span class=\"toc-item-num\">4&nbsp;&nbsp;</span>Выводы</a></span></li><li><span><a href=\"#Чек-лист-проверки\" data-toc-modified-id=\"Чек-лист-проверки-5\"><span class=\"toc-item-num\">5&nbsp;&nbsp;</span>Чек-лист проверки</a></span></li></ul></div>"
   ]
  },
  {
   "cell_type": "markdown",
   "metadata": {},
   "source": [
    "# Проект для «Викишоп»"
   ]
  },
  {
   "cell_type": "markdown",
   "metadata": {},
   "source": [
    "Интернет-магазин «Викишоп» запускает новый сервис. Теперь пользователи могут редактировать и дополнять описания товаров, как в вики-сообществах. То есть клиенты предлагают свои правки и комментируют изменения других. Магазину нужен инструмент, который будет искать токсичные комментарии и отправлять их на модерацию. \n",
    "\n",
    "Проведем очистку, лемматизацию текстов и закодируем для обучения моделей. Проверять будем Логистическую регрессию, случайный лес и LGBM, выберем лучшую с результатом по f1 не менее 0,75. Результаты сравним и протестируем лучшую модель "
   ]
  },
  {
   "cell_type": "markdown",
   "metadata": {},
   "source": [
    "## Подготовка"
   ]
  },
  {
   "cell_type": "code",
   "execution_count": 10,
   "metadata": {},
   "outputs": [],
   "source": [
    "import pandas as pd\n",
    "import numpy as np\n",
    "import matplotlib.pyplot as plt\n",
    "from tqdm.notebook import tqdm\n",
    "\n",
    "import contextlib\n",
    "import re \n",
    "import nltk\n",
    "from nltk.corpus import stopwords as nltk_stopwords\n",
    "import spacy\n",
    "\n",
    "from sklearn.metrics import f1_score\n",
    "from sklearn.model_selection import train_test_split\n",
    "from sklearn.linear_model import LogisticRegression\n",
    "from sklearn.dummy import DummyClassifier\n",
    "from sklearn.ensemble import RandomForestClassifier\n",
    "from lightgbm import LGBMClassifier\n",
    "from sklearn.pipeline import Pipeline\n",
    "from sklearn.model_selection import RandomizedSearchCV\n",
    "from sklearn.feature_extraction.text import TfidfVectorizer"
   ]
  },
  {
   "cell_type": "code",
   "execution_count": 12,
   "metadata": {},
   "outputs": [],
   "source": [
    "pd.set_option('display.max_rows', None)\n",
    "pd.set_option('display.max_columns', None)\n",
    "pd.set_option('display.max_colwidth', None)"
   ]
  },
  {
   "cell_type": "markdown",
   "metadata": {},
   "source": [
    "### Знакомство с данными"
   ]
  },
  {
   "cell_type": "code",
   "execution_count": 14,
   "metadata": {},
   "outputs": [],
   "source": [
    "try:\n",
    "    df = pd.read_csv('toxic_comments.csv')\n",
    "except:\n",
    "    df = pd.read_csv('/datasets/toxic_comments.csv')"
   ]
  },
  {
   "cell_type": "code",
   "execution_count": 15,
   "metadata": {},
   "outputs": [
    {
     "data": {
      "text/html": [
       "<div>\n",
       "<style scoped>\n",
       "    .dataframe tbody tr th:only-of-type {\n",
       "        vertical-align: middle;\n",
       "    }\n",
       "\n",
       "    .dataframe tbody tr th {\n",
       "        vertical-align: top;\n",
       "    }\n",
       "\n",
       "    .dataframe thead th {\n",
       "        text-align: right;\n",
       "    }\n",
       "</style>\n",
       "<table border=\"1\" class=\"dataframe\">\n",
       "  <thead>\n",
       "    <tr style=\"text-align: right;\">\n",
       "      <th></th>\n",
       "      <th>Unnamed: 0</th>\n",
       "      <th>text</th>\n",
       "      <th>toxic</th>\n",
       "    </tr>\n",
       "  </thead>\n",
       "  <tbody>\n",
       "    <tr>\n",
       "      <th>0</th>\n",
       "      <td>0</td>\n",
       "      <td>Explanation\\nWhy the edits made under my username Hardcore Metallica Fan were reverted? They weren't vandalisms, just closure on some GAs after I voted at New York Dolls FAC. And please don't remove the template from the talk page since I'm retired now.89.205.38.27</td>\n",
       "      <td>0</td>\n",
       "    </tr>\n",
       "    <tr>\n",
       "      <th>1</th>\n",
       "      <td>1</td>\n",
       "      <td>D'aww! He matches this background colour I'm seemingly stuck with. Thanks.  (talk) 21:51, January 11, 2016 (UTC)</td>\n",
       "      <td>0</td>\n",
       "    </tr>\n",
       "    <tr>\n",
       "      <th>2</th>\n",
       "      <td>2</td>\n",
       "      <td>Hey man, I'm really not trying to edit war. It's just that this guy is constantly removing relevant information and talking to me through edits instead of my talk page. He seems to care more about the formatting than the actual info.</td>\n",
       "      <td>0</td>\n",
       "    </tr>\n",
       "    <tr>\n",
       "      <th>3</th>\n",
       "      <td>3</td>\n",
       "      <td>\"\\nMore\\nI can't make any real suggestions on improvement - I wondered if the section statistics should be later on, or a subsection of \"\"types of accidents\"\"  -I think the references may need tidying so that they are all in the exact same format ie date format etc. I can do that later on, if no-one else does first - if you have any preferences for formatting style on references or want to do it yourself please let me know.\\n\\nThere appears to be a backlog on articles for review so I guess there may be a delay until a reviewer turns up. It's listed in the relevant form eg Wikipedia:Good_article_nominations#Transport  \"</td>\n",
       "      <td>0</td>\n",
       "    </tr>\n",
       "    <tr>\n",
       "      <th>4</th>\n",
       "      <td>4</td>\n",
       "      <td>You, sir, are my hero. Any chance you remember what page that's on?</td>\n",
       "      <td>0</td>\n",
       "    </tr>\n",
       "  </tbody>\n",
       "</table>\n",
       "</div>"
      ],
      "text/plain": [
       "   Unnamed: 0  \\\n",
       "0           0   \n",
       "1           1   \n",
       "2           2   \n",
       "3           3   \n",
       "4           4   \n",
       "\n",
       "                                                                                                                                                                                                                                                                                                                                                                                                                                                                                                                                                                                                                                                 text  \\\n",
       "0                                                                                                                                                                                                                                                                                                                                                                           Explanation\\nWhy the edits made under my username Hardcore Metallica Fan were reverted? They weren't vandalisms, just closure on some GAs after I voted at New York Dolls FAC. And please don't remove the template from the talk page since I'm retired now.89.205.38.27   \n",
       "1                                                                                                                                                                                                                                                                                                                                                                                                                                                                                                                                    D'aww! He matches this background colour I'm seemingly stuck with. Thanks.  (talk) 21:51, January 11, 2016 (UTC)   \n",
       "2                                                                                                                                                                                                                                                                                                                                                                                                           Hey man, I'm really not trying to edit war. It's just that this guy is constantly removing relevant information and talking to me through edits instead of my talk page. He seems to care more about the formatting than the actual info.   \n",
       "3  \"\\nMore\\nI can't make any real suggestions on improvement - I wondered if the section statistics should be later on, or a subsection of \"\"types of accidents\"\"  -I think the references may need tidying so that they are all in the exact same format ie date format etc. I can do that later on, if no-one else does first - if you have any preferences for formatting style on references or want to do it yourself please let me know.\\n\\nThere appears to be a backlog on articles for review so I guess there may be a delay until a reviewer turns up. It's listed in the relevant form eg Wikipedia:Good_article_nominations#Transport  \"   \n",
       "4                                                                                                                                                                                                                                                                                                                                                                                                                                                                                                                                                                                 You, sir, are my hero. Any chance you remember what page that's on?   \n",
       "\n",
       "   toxic  \n",
       "0      0  \n",
       "1      0  \n",
       "2      0  \n",
       "3      0  \n",
       "4      0  "
      ]
     },
     "execution_count": 15,
     "metadata": {},
     "output_type": "execute_result"
    }
   ],
   "source": [
    "df.head(5)"
   ]
  },
  {
   "cell_type": "code",
   "execution_count": 16,
   "metadata": {},
   "outputs": [
    {
     "data": {
      "text/plain": [
       "(159292, 3)"
      ]
     },
     "execution_count": 16,
     "metadata": {},
     "output_type": "execute_result"
    }
   ],
   "source": [
    "df.shape"
   ]
  },
  {
   "cell_type": "code",
   "execution_count": 17,
   "metadata": {},
   "outputs": [
    {
     "data": {
      "text/plain": [
       "Unnamed: 0    0\n",
       "text          0\n",
       "toxic         0\n",
       "dtype: int64"
      ]
     },
     "execution_count": 17,
     "metadata": {},
     "output_type": "execute_result"
    }
   ],
   "source": [
    "df.isna().sum()"
   ]
  },
  {
   "cell_type": "code",
   "execution_count": 18,
   "metadata": {},
   "outputs": [
    {
     "data": {
      "text/plain": [
       "0"
      ]
     },
     "execution_count": 18,
     "metadata": {},
     "output_type": "execute_result"
    }
   ],
   "source": [
    "df.duplicated().sum()"
   ]
  },
  {
   "cell_type": "code",
   "execution_count": 19,
   "metadata": {},
   "outputs": [
    {
     "data": {
      "image/png": "[encoded data removed]",
      "text/plain": [
       "<Figure size 640x480 with 1 Axes>"
      ]
     },
     "metadata": {},
     "output_type": "display_data"
    }
   ],
   "source": [
    "plt.title('Баланс классов')\n",
    "plt.xlabel('toxic')\n",
    "plt.ylabel('Частота значений')\n",
    "\n",
    "df['toxic'].hist()\n",
    "\n",
    "plt.show()"
   ]
  },
  {
   "cell_type": "markdown",
   "metadata": {},
   "source": [
    "Все как в описании, такст и оценка токсичности. Ничего необычного. Пустых нет, размер в норме. Баланс классов сильно нарушен - учтем это при разбиении выборок и подборе моделей. Можем работать."
   ]
  },
  {
   "cell_type": "markdown",
   "metadata": {},
   "source": [
    "### Подготовка данных"
   ]
  },
  {
   "cell_type": "markdown",
   "metadata": {},
   "source": [
    "Создадим функцию для лемматизации, результат которой станет фичами."
   ]
  },
  {
   "cell_type": "code",
   "execution_count": 28,
   "metadata": {},
   "outputs": [],
   "source": [
    "nlp = spacy.load(\"en_core_web_sm\",  disable=['parser', 'ner'])"
   ]
  },
  {
   "cell_type": "code",
   "execution_count": 29,
   "metadata": {},
   "outputs": [],
   "source": [
    "def lemmatizer(text):\n",
    "\n",
    "    text = re.sub(r'[^a-zA-Z ]', ' ', text).split()  \n",
    "    text = \" \".join(text).lower()\n",
    "    \n",
    "    #spacy.prefer_gpu()\n",
    "    \n",
    "    doc = nlp(text)\n",
    "    doc = \" \".join([token.lemma_ for token in doc])\n",
    "    \n",
    "    return doc"
   ]
  },
  {
   "cell_type": "code",
   "execution_count": 30,
   "metadata": {
    "scrolled": true
   },
   "outputs": [
    {
     "name": "stdout",
     "output_type": "stream",
     "text": [
      "Explanation\n",
      "Why the edits made under my username Hardcore Metallica Fan were reverted? They weren't vandalisms, just closure on some GAs after I voted at New York Dolls FAC. And please don't remove the template from the talk page since I'm retired now.89.205.38.27 \n",
      "\n",
      "explanation why the edit make under my username hardcore metallica fan be revert they weren t vandalism just closure on some gas after I vote at new york dolls fac and please don t remove the template from the talk page since I m retire now\n"
     ]
    }
   ],
   "source": [
    "corpus = df['text'].values\n",
    "\n",
    "print(corpus[0],'\\n')\n",
    "print(lemmatizer(corpus[0]))\n"
   ]
  },
  {
   "cell_type": "markdown",
   "metadata": {},
   "source": [
    "Лемматизация работает корректно. Теперь применим функцию ко всему датафрейму"
   ]
  },
  {
   "cell_type": "code",
   "execution_count": 31,
   "metadata": {
    "scrolled": true
   },
   "outputs": [
    {
     "data": {
      "application/vnd.jupyter.widget-view+json": {
       "model_id": "2e0b619a643b4ee3be92021327617e07",
       "version_major": 2,
       "version_minor": 0
      },
      "text/plain": [
       "  0%|          | 0/159292 [00:00<?, ?it/s]"
      ]
     },
     "metadata": {},
     "output_type": "display_data"
    },
    {
     "name": "stdout",
     "output_type": "stream",
     "text": [
      "CPU times: total: 14min 33s\n",
      "Wall time: 14min 32s\n"
     ]
    }
   ],
   "source": [
    "%%time\n",
    "\n",
    "tqdm.pandas()\n",
    "\n",
    "spacy.prefer_gpu()\n",
    "df['lemmatized'] = df['text'].progress_apply(lemmatizer)\n",
    "\n"
   ]
  },
  {
   "cell_type": "code",
   "execution_count": 34,
   "metadata": {},
   "outputs": [],
   "source": [
    "features = df['lemmatized']\n",
    "target = df['toxic'].values\n",
    "\n",
    "features_train, features_test, target_train, target_test = \\\n",
    "    train_test_split(features, target, test_size=0.1, random_state=12345, stratify=target)"
   ]
  },
  {
   "cell_type": "code",
   "execution_count": 36,
   "metadata": {},
   "outputs": [],
   "source": [
    "stopwords = list(nltk_stopwords.words('english'))  \n",
    "count_tf_idf = TfidfVectorizer(stop_words=stopwords)\n",
    "\n",
    "features_train_coded = count_tf_idf.fit_transform(features_train)\n",
    "tf_idf = count_tf_idf\n",
    "features_test_coded = count_tf_idf.transform(features_test)\n"
   ]
  },
  {
   "cell_type": "markdown",
   "metadata": {},
   "source": [
    "Данные разделили на выборки определив таргет. Текст очищен и лемматизирован. Все готово к подбору модели"
   ]
  },
  {
   "cell_type": "markdown",
   "metadata": {},
   "source": [
    "## Обучение"
   ]
  },
  {
   "cell_type": "markdown",
   "metadata": {},
   "source": [
    "### Логистическая регрессия"
   ]
  },
  {
   "cell_type": "markdown",
   "metadata": {},
   "source": [
    "Сделаем перебор гиперпараметров. Для этого используем функцию, которая будет принимать пайплайн с моделью и векторайзером, а также набор гиперпараметров для перебора. На выходе получим лучший скор и лучший эстиматор"
   ]
  },
  {
   "cell_type": "code",
   "execution_count": 37,
   "metadata": {},
   "outputs": [],
   "source": [
    "def hyp_sercher(pipe, hyp_p):\n",
    "\n",
    "    search = RandomizedSearchCV(\n",
    "        estimator=pipe,\n",
    "        param_distributions = hyp_p,\n",
    "        n_iter=3, cv=2, verbose=0, random_state=35, n_jobs = -1,\n",
    "        scoring='f1'\n",
    "\n",
    "    )\n",
    "\n",
    "    search.fit(features_train, target_train) \n",
    "\n",
    "    print (\n",
    "        'Лучшие параметры:', search.best_params_,'\\n',\n",
    "        'f1', search.best_score_,'\\n'\n",
    "    )  \n",
    "    \n",
    "    return search.best_estimator_\n"
   ]
  },
  {
   "cell_type": "code",
   "execution_count": 38,
   "metadata": {
    "scrolled": true
   },
   "outputs": [
    {
     "name": "stdout",
     "output_type": "stream",
     "text": [
      "Лучшие параметры: {'model__C': 10} \n",
      " f1 0.7648328387139114 \n",
      "\n",
      "CPU times: total: 12.5 s\n",
      "Wall time: 29.6 s\n"
     ]
    },
    {
     "name": "stderr",
     "output_type": "stream",
     "text": [
      "C:\\Users\\klyuchevenko.e\\Desktop\\DS\\ya\\Lib\\site-packages\\sklearn\\linear_model\\_logistic.py:460: ConvergenceWarning: lbfgs failed to converge (status=1):\n",
      "STOP: TOTAL NO. of ITERATIONS REACHED LIMIT.\n",
      "\n",
      "Increase the number of iterations (max_iter) or scale the data as shown in:\n",
      "    https://scikit-learn.org/stable/modules/preprocessing.html\n",
      "Please also refer to the documentation for alternative solver options:\n",
      "    https://scikit-learn.org/stable/modules/linear_model.html#logistic-regression\n",
      "  n_iter_i = _check_optimize_result(\n"
     ]
    }
   ],
   "source": [
    "%%time\n",
    "\n",
    "hyp_p = {\n",
    "    'model__C': [int(x) for x in np.linspace(10, 120, num = 5)]\n",
    "} \n",
    "\n",
    "pipe = Pipeline(\n",
    "    [\n",
    "    ('count_tf_idf',  TfidfVectorizer(stop_words=stopwords)),\n",
    "    ('model', LogisticRegression(class_weight='balanced'))\n",
    "    ]\n",
    ")\n",
    "\n",
    "log_model = hyp_sercher(pipe=pipe, hyp_p=hyp_p)"
   ]
  },
  {
   "cell_type": "markdown",
   "metadata": {},
   "source": [
    "### Случайный лес"
   ]
  },
  {
   "cell_type": "code",
   "execution_count": 37,
   "metadata": {
    "scrolled": true
   },
   "outputs": [
    {
     "name": "stdout",
     "output_type": "stream",
     "text": [
      "Лучшие параметры: {'model__n_estimators': 20} \n",
      " f1 0.5986326060431064 \n",
      "\n",
      "CPU times: user 6min 30s, sys: 3.83 s, total: 6min 34s\n",
      "Wall time: 6min 35s\n"
     ]
    }
   ],
   "source": [
    "%%time\n",
    "\n",
    "hyp_p = {\n",
    "    'model__n_estimators' : [int(x) for x in np.linspace(start = 1, stop = 20, num = 3)],\n",
    "#    'model__max_features' : ['auto', 'sqrt'],\n",
    "#    'model__max_depth' : [int(x) for x in np.linspace(10, 120, num = 8)],\n",
    "#    'model__min_samples_split' : [2, 6, 12],\n",
    "#    'model__min_samples_leaf' : [1, 3, 4]\n",
    "} \n",
    "\n",
    "pipe = Pipeline(\n",
    "    [\n",
    "    ('count_tf_idf',  TfidfVectorizer(stop_words=stopwords)),\n",
    "    ('model', RandomForestClassifier(class_weight='balanced', random_state=123))\n",
    "    ]\n",
    ")\n",
    "\n",
    "forest_model = hyp_sercher(pipe=pipe, hyp_p=hyp_p)"
   ]
  },
  {
   "cell_type": "markdown",
   "metadata": {},
   "source": [
    "### LightGBM"
   ]
  },
  {
   "cell_type": "code",
   "execution_count": 38,
   "metadata": {},
   "outputs": [
    {
     "name": "stdout",
     "output_type": "stream",
     "text": [
      "Лучшие параметры: {'model__num_leaves': 100} \n",
      " f1 0.7517716912468876 \n",
      "\n",
      "CPU times: user 23min 47s, sys: 2.9 s, total: 23min 50s\n",
      "Wall time: 23min 55s\n"
     ]
    }
   ],
   "source": [
    "%%time\n",
    "\n",
    "hyp_p = {\n",
    "    'model__num_leaves' : [int(x) for x in np.linspace(start = 31, stop = 100, num = 3)],\n",
    "    #'model__max_depth' : [0,-1] + [int(x) for x in np.linspace(start = 1, stop = 20, num = 2)],\n",
    "} \n",
    "\n",
    "pipe = Pipeline(\n",
    "    [\n",
    "    ('count_tf_idf',  TfidfVectorizer(stop_words=stopwords)),\n",
    "    ('model', LGBMClassifier(class_weight='balanced', random_state=123))\n",
    "    ]\n",
    ")\n",
    "\n",
    "gbm_model = hyp_sercher(pipe=pipe, hyp_p=hyp_p)"
   ]
  },
  {
   "cell_type": "markdown",
   "metadata": {},
   "source": [
    "Перебрав гиперпараметры для моделей LightGBM, RandomForest, LogisticRegression, получили значения лучших f1 и наилучший результат показала можель Логистической регрессии - 0,76 на подборе через RandomSearch"
   ]
  },
  {
   "cell_type": "markdown",
   "metadata": {},
   "source": [
    "| Модель| f1 | test |\n",
    "| --- | --- | --- |\n",
    "| Логистическая регрессия | 0.76 | - |\n",
    "| Случайный Лес | 0.59 | - |\n",
    "| LGBM | 0.75 | - |"
   ]
  },
  {
   "cell_type": "markdown",
   "metadata": {},
   "source": [
    "## Тестирование лучшей модели"
   ]
  },
  {
   "cell_type": "code",
   "execution_count": 39,
   "metadata": {},
   "outputs": [
    {
     "data": {
      "text/plain": [
       "0.7754985754985755"
      ]
     },
     "execution_count": 39,
     "metadata": {},
     "output_type": "execute_result"
    }
   ],
   "source": [
    "predict_test = log_model[1].predict(features_test_coded)\n",
    "f1_score(target_test, predict_test)"
   ]
  },
  {
   "cell_type": "markdown",
   "metadata": {},
   "source": [
    "## Выводы"
   ]
  },
  {
   "cell_type": "markdown",
   "metadata": {},
   "source": [
    "| Модель| f1 | test |\n",
    "| --- | --- | --- |\n",
    "| Логистическая регрессия | 0.76 | 0.77 |\n",
    "| Случайный Лес | 0.52 | - |\n",
    "| LGBM | 0.74 | - |"
   ]
  },
  {
   "cell_type": "markdown",
   "metadata": {},
   "source": [
    "В рамках проекта были рассмотрены f1-меры результатов работы трех моделей. Для каждой модели пыл подобран оптимальный набор гиперпараметров. Наилучший результат показал модель логистической регресси с f1 равной 0,77 на тренировочной выборке и аналогичным значенеим на тестовой"
   ]
  }
 ],
 "metadata": {
  "ExecuteTimeLog": [
   {
    "duration": 1150,
    "start_time": "2023-02-24T06:40:02.138Z"
   },
   {
    "duration": 45,
    "start_time": "2023-02-24T08:23:08.367Z"
   },
   {
    "duration": 1466,
    "start_time": "2023-02-24T08:26:20.469Z"
   },
   {
    "duration": 85,
    "start_time": "2023-02-24T08:36:31.724Z"
   },
   {
    "duration": 1257,
    "start_time": "2023-02-24T08:36:40.628Z"
   },
   {
    "duration": 1456,
    "start_time": "2023-02-24T08:36:41.887Z"
   },
   {
    "duration": 3,
    "start_time": "2023-02-24T08:36:43.345Z"
   },
   {
    "duration": 2465,
    "start_time": "2023-02-24T08:36:43.350Z"
   },
   {
    "duration": 15,
    "start_time": "2023-02-24T08:36:45.817Z"
   },
   {
    "duration": 4,
    "start_time": "2023-02-24T08:36:45.834Z"
   },
   {
    "duration": 27,
    "start_time": "2023-02-24T08:36:45.839Z"
   },
   {
    "duration": 256,
    "start_time": "2023-02-24T08:36:45.868Z"
   },
   {
    "duration": 148,
    "start_time": "2023-02-24T08:36:46.126Z"
   },
   {
    "duration": 0,
    "start_time": "2023-02-24T08:36:46.276Z"
   },
   {
    "duration": 0,
    "start_time": "2023-02-24T08:36:46.277Z"
   },
   {
    "duration": 0,
    "start_time": "2023-02-24T08:36:46.279Z"
   },
   {
    "duration": 0,
    "start_time": "2023-02-24T08:36:46.294Z"
   },
   {
    "duration": 0,
    "start_time": "2023-02-24T08:36:46.295Z"
   },
   {
    "duration": 0,
    "start_time": "2023-02-24T08:36:46.296Z"
   },
   {
    "duration": 0,
    "start_time": "2023-02-24T08:36:46.297Z"
   },
   {
    "duration": 0,
    "start_time": "2023-02-24T08:36:46.297Z"
   },
   {
    "duration": 0,
    "start_time": "2023-02-24T08:36:46.298Z"
   },
   {
    "duration": 0,
    "start_time": "2023-02-24T08:36:46.299Z"
   },
   {
    "duration": 407,
    "start_time": "2023-02-24T08:37:25.280Z"
   },
   {
    "duration": 286,
    "start_time": "2023-02-24T08:37:29.872Z"
   },
   {
    "duration": 48,
    "start_time": "2023-02-24T08:41:43.043Z"
   },
   {
    "duration": 4,
    "start_time": "2023-02-24T08:42:38.135Z"
   },
   {
    "duration": 2497,
    "start_time": "2023-02-24T08:44:00.580Z"
   },
   {
    "duration": 3625,
    "start_time": "2023-02-24T08:44:48.211Z"
   },
   {
    "duration": 8,
    "start_time": "2023-02-24T08:44:52.485Z"
   },
   {
    "duration": 350,
    "start_time": "2023-02-24T08:49:21.769Z"
   },
   {
    "duration": 41,
    "start_time": "2023-02-24T08:50:44.032Z"
   },
   {
    "duration": 63,
    "start_time": "2023-02-24T08:51:04.439Z"
   },
   {
    "duration": 416,
    "start_time": "2023-02-24T08:51:44.242Z"
   },
   {
    "duration": 75,
    "start_time": "2023-02-24T08:51:49.502Z"
   },
   {
    "duration": 77,
    "start_time": "2023-02-24T08:51:54.062Z"
   },
   {
    "duration": 27,
    "start_time": "2023-02-24T08:52:13.010Z"
   },
   {
    "duration": 20,
    "start_time": "2023-02-24T08:52:25.074Z"
   },
   {
    "duration": 20,
    "start_time": "2023-02-24T08:52:30.738Z"
   },
   {
    "duration": 24,
    "start_time": "2023-02-24T08:52:43.409Z"
   },
   {
    "duration": 1011,
    "start_time": "2023-02-24T08:53:03.740Z"
   },
   {
    "duration": 1313,
    "start_time": "2023-02-24T08:53:06.676Z"
   },
   {
    "duration": 776,
    "start_time": "2023-02-24T08:55:03.165Z"
   },
   {
    "duration": 74,
    "start_time": "2023-02-24T08:55:14.195Z"
   },
   {
    "duration": 92,
    "start_time": "2023-02-24T08:56:16.162Z"
   },
   {
    "duration": 506,
    "start_time": "2023-02-24T08:56:32.614Z"
   },
   {
    "duration": 490,
    "start_time": "2023-02-24T08:57:07.025Z"
   },
   {
    "duration": 5,
    "start_time": "2023-02-24T08:57:40.728Z"
   },
   {
    "duration": 5,
    "start_time": "2023-02-24T08:57:49.656Z"
   },
   {
    "duration": 51,
    "start_time": "2023-02-24T08:57:55.938Z"
   },
   {
    "duration": 8,
    "start_time": "2023-02-24T08:58:03.132Z"
   },
   {
    "duration": 8,
    "start_time": "2023-02-24T08:58:08.022Z"
   },
   {
    "duration": 32,
    "start_time": "2023-02-24T08:58:14.776Z"
   },
   {
    "duration": 676,
    "start_time": "2023-02-24T08:59:03.829Z"
   },
   {
    "duration": 725,
    "start_time": "2023-02-24T08:59:14.629Z"
   },
   {
    "duration": 648,
    "start_time": "2023-02-24T08:59:26.492Z"
   },
   {
    "duration": 608,
    "start_time": "2023-02-24T09:02:30.377Z"
   },
   {
    "duration": 53,
    "start_time": "2023-02-24T09:02:44.930Z"
   },
   {
    "duration": 536,
    "start_time": "2023-02-24T09:04:44.110Z"
   },
   {
    "duration": 2050,
    "start_time": "2023-02-24T09:05:34.621Z"
   },
   {
    "duration": 566,
    "start_time": "2023-02-24T09:06:13.771Z"
   },
   {
    "duration": 527,
    "start_time": "2023-02-24T09:20:37.543Z"
   },
   {
    "duration": 547,
    "start_time": "2023-02-24T09:20:56.425Z"
   },
   {
    "duration": 512,
    "start_time": "2023-02-24T09:21:20.724Z"
   },
   {
    "duration": 3,
    "start_time": "2023-02-24T09:25:49.350Z"
   },
   {
    "duration": 35,
    "start_time": "2023-02-24T09:25:59.039Z"
   },
   {
    "duration": 3,
    "start_time": "2023-02-24T09:26:16.939Z"
   },
   {
    "duration": 566,
    "start_time": "2023-02-24T09:26:23.873Z"
   },
   {
    "duration": 6,
    "start_time": "2023-02-24T09:26:35.080Z"
   },
   {
    "duration": 519,
    "start_time": "2023-02-24T09:26:38.525Z"
   },
   {
    "duration": 27,
    "start_time": "2023-02-24T09:27:13.019Z"
   },
   {
    "duration": 556,
    "start_time": "2023-02-24T09:27:21.536Z"
   },
   {
    "duration": 868,
    "start_time": "2023-02-24T09:27:45.736Z"
   },
   {
    "duration": 39875,
    "start_time": "2023-02-24T09:27:55.629Z"
   },
   {
    "duration": 168874,
    "start_time": "2023-02-24T09:28:48.876Z"
   },
   {
    "duration": 26,
    "start_time": "2023-02-24T09:37:42.216Z"
   },
   {
    "duration": 16,
    "start_time": "2023-02-24T09:37:49.871Z"
   },
   {
    "duration": 22,
    "start_time": "2023-02-24T09:37:55.290Z"
   },
   {
    "duration": 4,
    "start_time": "2023-02-24T09:38:08.333Z"
   },
   {
    "duration": 6,
    "start_time": "2023-02-24T09:38:16.309Z"
   },
   {
    "duration": 4,
    "start_time": "2023-02-24T09:38:18.461Z"
   },
   {
    "duration": 102950,
    "start_time": "2023-02-24T09:38:26.582Z"
   },
   {
    "duration": 4,
    "start_time": "2023-02-24T09:40:09.533Z"
   },
   {
    "duration": 4,
    "start_time": "2023-02-24T09:40:15.645Z"
   },
   {
    "duration": 4,
    "start_time": "2023-02-24T09:40:38.370Z"
   },
   {
    "duration": 22333,
    "start_time": "2023-02-24T09:40:42.972Z"
   },
   {
    "duration": 8,
    "start_time": "2023-02-24T09:41:21.920Z"
   },
   {
    "duration": 15089,
    "start_time": "2023-02-24T09:42:38.362Z"
   },
   {
    "duration": 1020,
    "start_time": "2023-02-24T09:46:45.928Z"
   },
   {
    "duration": 90,
    "start_time": "2023-02-24T09:46:52.339Z"
   },
   {
    "duration": 87,
    "start_time": "2023-02-24T09:47:43.471Z"
   },
   {
    "duration": 5,
    "start_time": "2023-02-24T09:48:48.239Z"
   },
   {
    "duration": 4858,
    "start_time": "2023-02-24T09:49:14.329Z"
   },
   {
    "duration": 6691,
    "start_time": "2023-02-24T09:49:52.439Z"
   },
   {
    "duration": 82,
    "start_time": "2023-02-24T09:50:55.494Z"
   },
   {
    "duration": 80,
    "start_time": "2023-02-24T09:51:36.066Z"
   },
   {
    "duration": 78,
    "start_time": "2023-02-24T09:53:22.067Z"
   },
   {
    "duration": 85,
    "start_time": "2023-02-24T09:56:55.472Z"
   },
   {
    "duration": 7,
    "start_time": "2023-02-24T09:57:09.666Z"
   },
   {
    "duration": 66,
    "start_time": "2023-02-24T09:57:24.720Z"
   },
   {
    "duration": 4,
    "start_time": "2023-02-24T09:58:22.833Z"
   },
   {
    "duration": 118,
    "start_time": "2023-02-24T09:58:30.122Z"
   },
   {
    "duration": 18727,
    "start_time": "2023-02-24T09:59:22.372Z"
   },
   {
    "duration": 13008,
    "start_time": "2023-02-24T10:00:02.378Z"
   },
   {
    "duration": 21496,
    "start_time": "2023-02-24T10:59:58.325Z"
   },
   {
    "duration": 22422,
    "start_time": "2023-02-24T11:17:03.925Z"
   },
   {
    "duration": 9623,
    "start_time": "2023-02-24T11:17:34.823Z"
   },
   {
    "duration": 5,
    "start_time": "2023-02-24T11:18:33.570Z"
   },
   {
    "duration": 4,
    "start_time": "2023-02-24T11:18:37.679Z"
   },
   {
    "duration": 4,
    "start_time": "2023-02-24T11:18:42.022Z"
   },
   {
    "duration": 4,
    "start_time": "2023-02-24T11:18:47.285Z"
   },
   {
    "duration": 4,
    "start_time": "2023-02-24T11:18:52.129Z"
   },
   {
    "duration": 4,
    "start_time": "2023-02-24T11:18:57.483Z"
   },
   {
    "duration": 4,
    "start_time": "2023-02-24T11:19:03.530Z"
   },
   {
    "duration": 3,
    "start_time": "2023-02-24T11:19:13.886Z"
   },
   {
    "duration": 53,
    "start_time": "2023-02-24T11:19:25.532Z"
   },
   {
    "duration": 15,
    "start_time": "2023-02-24T11:19:32.911Z"
   },
   {
    "duration": 3063312,
    "start_time": "2023-02-24T11:21:09.252Z"
   },
   {
    "duration": 4,
    "start_time": "2023-02-24T12:59:32.823Z"
   },
   {
    "duration": 889,
    "start_time": "2023-02-24T13:00:48.557Z"
   },
   {
    "duration": 21919,
    "start_time": "2023-02-24T13:00:49.449Z"
   },
   {
    "duration": 6,
    "start_time": "2023-02-24T13:01:11.370Z"
   },
   {
    "duration": 532,
    "start_time": "2023-02-24T13:01:11.388Z"
   },
   {
    "duration": 0,
    "start_time": "2023-02-24T13:01:11.923Z"
   },
   {
    "duration": 0,
    "start_time": "2023-02-24T13:01:11.924Z"
   },
   {
    "duration": 0,
    "start_time": "2023-02-24T13:01:11.926Z"
   },
   {
    "duration": 0,
    "start_time": "2023-02-24T13:01:11.927Z"
   },
   {
    "duration": 0,
    "start_time": "2023-02-24T13:01:11.928Z"
   },
   {
    "duration": 0,
    "start_time": "2023-02-24T13:01:11.929Z"
   },
   {
    "duration": 0,
    "start_time": "2023-02-24T13:01:11.930Z"
   },
   {
    "duration": 0,
    "start_time": "2023-02-24T13:01:11.931Z"
   },
   {
    "duration": 0,
    "start_time": "2023-02-24T13:01:11.933Z"
   },
   {
    "duration": 0,
    "start_time": "2023-02-24T13:01:11.934Z"
   },
   {
    "duration": 0,
    "start_time": "2023-02-24T13:01:11.935Z"
   },
   {
    "duration": 0,
    "start_time": "2023-02-24T13:01:11.936Z"
   },
   {
    "duration": 0,
    "start_time": "2023-02-24T13:01:11.937Z"
   },
   {
    "duration": 0,
    "start_time": "2023-02-24T13:01:11.938Z"
   },
   {
    "duration": 0,
    "start_time": "2023-02-24T13:01:11.939Z"
   },
   {
    "duration": 896,
    "start_time": "2023-02-24T13:02:06.057Z"
   },
   {
    "duration": 4332,
    "start_time": "2023-02-24T13:02:06.955Z"
   },
   {
    "duration": 11,
    "start_time": "2023-02-24T13:02:11.289Z"
   },
   {
    "duration": 2496,
    "start_time": "2023-02-24T13:02:11.306Z"
   },
   {
    "duration": 13,
    "start_time": "2023-02-24T13:02:13.804Z"
   },
   {
    "duration": 4,
    "start_time": "2023-02-24T13:02:13.819Z"
   },
   {
    "duration": 36,
    "start_time": "2023-02-24T13:02:13.824Z"
   },
   {
    "duration": 245,
    "start_time": "2023-02-24T13:02:13.862Z"
   },
   {
    "duration": 164,
    "start_time": "2023-02-24T13:02:14.109Z"
   },
   {
    "duration": 3,
    "start_time": "2023-02-24T13:02:14.276Z"
   },
   {
    "duration": 397,
    "start_time": "2023-02-24T13:02:14.280Z"
   },
   {
    "duration": 0,
    "start_time": "2023-02-24T13:02:14.679Z"
   },
   {
    "duration": 0,
    "start_time": "2023-02-24T13:02:14.680Z"
   },
   {
    "duration": 0,
    "start_time": "2023-02-24T13:02:14.682Z"
   },
   {
    "duration": 0,
    "start_time": "2023-02-24T13:02:14.683Z"
   },
   {
    "duration": 0,
    "start_time": "2023-02-24T13:02:14.692Z"
   },
   {
    "duration": 0,
    "start_time": "2023-02-24T13:02:14.692Z"
   },
   {
    "duration": 0,
    "start_time": "2023-02-24T13:02:14.693Z"
   },
   {
    "duration": 0,
    "start_time": "2023-02-24T13:02:14.694Z"
   },
   {
    "duration": 34,
    "start_time": "2023-02-24T13:02:51.027Z"
   },
   {
    "duration": 549,
    "start_time": "2023-02-24T13:03:12.396Z"
   },
   {
    "duration": 4,
    "start_time": "2023-02-24T13:03:14.757Z"
   },
   {
    "duration": 15,
    "start_time": "2023-02-24T13:03:19.069Z"
   },
   {
    "duration": 1077478,
    "start_time": "2023-02-24T13:03:26.025Z"
   },
   {
    "duration": 71,
    "start_time": "2023-02-24T13:35:59.206Z"
   },
   {
    "duration": 7518,
    "start_time": "2023-02-24T13:36:02.581Z"
   },
   {
    "duration": 4,
    "start_time": "2023-02-24T13:36:14.158Z"
   },
   {
    "duration": 280862,
    "start_time": "2023-02-24T13:36:16.868Z"
   },
   {
    "duration": 0,
    "start_time": "2023-02-24T13:40:57.732Z"
   },
   {
    "duration": 0,
    "start_time": "2023-02-24T13:40:57.734Z"
   },
   {
    "duration": 4,
    "start_time": "2023-02-24T13:41:12.682Z"
   },
   {
    "duration": 0,
    "start_time": "2023-02-24T13:44:08.760Z"
   },
   {
    "duration": 0,
    "start_time": "2023-02-24T13:44:08.762Z"
   },
   {
    "duration": 5,
    "start_time": "2023-02-24T13:44:12.512Z"
   },
   {
    "duration": 4,
    "start_time": "2023-02-24T13:44:13.726Z"
   },
   {
    "duration": 4,
    "start_time": "2023-02-24T13:44:34.622Z"
   },
   {
    "duration": 23839,
    "start_time": "2023-02-24T13:44:37.713Z"
   },
   {
    "duration": 4,
    "start_time": "2023-02-24T13:45:17.941Z"
   },
   {
    "duration": 228689,
    "start_time": "2023-02-24T13:45:18.318Z"
   },
   {
    "duration": 4,
    "start_time": "2023-02-24T13:51:38.223Z"
   },
   {
    "duration": 35154,
    "start_time": "2023-02-24T13:51:39.386Z"
   },
   {
    "duration": 4,
    "start_time": "2023-02-24T14:01:22.418Z"
   },
   {
    "duration": 315980,
    "start_time": "2023-02-24T14:01:22.424Z"
   },
   {
    "duration": 351604,
    "start_time": "2023-02-24T14:06:38.491Z"
   },
   {
    "duration": 1153718,
    "start_time": "2023-02-24T14:12:30.097Z"
   },
   {
    "duration": 395538,
    "start_time": "2023-02-24T14:31:43.817Z"
   },
   {
    "duration": 1435760,
    "start_time": "2023-02-24T14:38:19.358Z"
   },
   {
    "duration": 14,
    "start_time": "2023-02-24T15:02:15.122Z"
   }
  ],
  "kernelspec": {
   "display_name": "Python 3 (ipykernel)",
   "language": "python",
   "name": "python3"
  },
  "language_info": {
   "codemirror_mode": {
    "name": "ipython",
    "version": 3
   },
   "file_extension": ".py",
   "mimetype": "text/x-python",
   "name": "python",
   "nbconvert_exporter": "python",
   "pygments_lexer": "ipython3",
   "version": "3.11.5"
  },
  "toc": {
   "base_numbering": 1,
   "nav_menu": {},
   "number_sections": true,
   "sideBar": true,
   "skip_h1_title": true,
   "title_cell": "Содержание",
   "title_sidebar": "Contents",
   "toc_cell": true,
   "toc_position": {
    "height": "calc(100% - 180px)",
    "left": "10px",
    "top": "150px",
    "width": "302.391px"
   },
   "toc_section_display": true,
   "toc_window_display": false
  }
 },
 "nbformat": 4,
 "nbformat_minor": 4
}
